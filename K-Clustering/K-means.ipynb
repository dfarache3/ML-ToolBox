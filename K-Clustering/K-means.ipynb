{
 "cells": [
  {
   "cell_type": "code",
   "execution_count": 18,
   "metadata": {},
   "outputs": [],
   "source": [
    "import numpy as np\n",
    "import matplotlib.pyplot as plt\n",
    "from sklearn.preprocessing import StandardScaler\n",
    "from numpy.random import uniform\n",
    "from sklearn.datasets import make_blobs\n",
    "import seaborn as sns\n",
    "import random\n",
    "\n",
    "def euclidean(point, data):\n",
    "    \"\"\"\n",
    "    Euclidean distance between point & data.\n",
    "    Point has dimensions (m,), data has dimensions (n,m), and output will be of size (n,).\n",
    "    \"\"\"\n",
    "    return np.sqrt(np.sum((point - data)**2, axis=1))\n",
    "\n",
    "class KMeans:\n",
    "    def __init__(self, n_clusters=8, max_iter=300):\n",
    "        self.n_clusters = n_clusters\n",
    "        self.max_iter = max_iter\n",
    "\n",
    "    def fit(self, X_train):\n",
    "        # Initialize the centroids, using the \"k-means++\" method, where a random datapoint is selected as the first,\n",
    "        # then the rest are initialized w/ probabilities proportional to their distances to the first\n",
    "        # Pick a random point from train data for first centroid\n",
    "        self.centroids = [random.choice(X_train)]\n",
    "        print(centroids)\n",
    "        \n",
    "        for _ in range(self.n_clusters-1):\n",
    "            # Calculate distances from points to the centroids\n",
    "            dists = np.sum([euclidean(centroid, X_train) for centroid in self.centroids], axis=0)\n",
    "\n",
    "            # Normalize the distances\n",
    "            dists /= np.sum(dists)\n",
    "\n",
    "            # Choose remaining points based on their distances\n",
    "            new_centroid_idx, = np.random.choice(range(len(X_train)), size=1, p=dists)\n",
    "            self.centroids += [X_train[new_centroid_idx]]\n",
    "\n",
    "        # This initial method of randomly selecting centroid starts is less effective\n",
    "        # min_, max_ = np.min(X_train, axis=0), np.max(X_train, axis=0)\n",
    "        # self.centroids = [uniform(min_, max_) for _ in range(self.n_clusters)]\n",
    "        # Iterate, adjusting centroids until converged or until passed max_iter\n",
    "\n",
    "        iteration = 0\n",
    "        prev_centroids = None\n",
    "        while np.not_equal(self.centroids, prev_centroids).any() and iteration < self.max_iter:\n",
    "            # Sort each datapoint, assigning to nearest centroid\n",
    "            sorted_points = [[] for _ in range(self.n_clusters)]\n",
    "\n",
    "            for x in X_train:\n",
    "                dists = euclidean(x, self.centroids)\n",
    "                centroid_idx = np.argmin(dists)\n",
    "                sorted_points[centroid_idx].append(x)\n",
    "\n",
    "            # Push current centroids to previous, reassign centroids as mean of the points belonging to them\n",
    "            prev_centroids = self.centroids\n",
    "            self.centroids = [np.mean(cluster, axis=0) for cluster in sorted_points]\n",
    "\n",
    "            for i, centroid in enumerate(self.centroids):\n",
    "                if np.isnan(centroid).any():  # Catch any np.nans, resulting from a centroid having no points\n",
    "                    self.centroids[i] = prev_centroids[i]\n",
    "            iteration += 1\n",
    "\n",
    "    def evaluate(self, X):\n",
    "        centroids = []\n",
    "        centroid_idxs = []\n",
    "        for x in X:\n",
    "            dists = euclidean(x, self.centroids)\n",
    "            centroid_idx = np.argmin(dists)\n",
    "            centroids.append(self.centroids[centroid_idx])\n",
    "            centroid_idxs.append(centroid_idx)\n",
    "        return centroids, centroid_idxs"
   ]
  },
  {
   "cell_type": "code",
   "execution_count": 19,
   "metadata": {},
   "outputs": [
    {
     "ename": "NameError",
     "evalue": "name 'centroids' is not defined",
     "output_type": "error",
     "traceback": [
      "\u001b[0;31m---------------------------------------------------------------------------\u001b[0m",
      "\u001b[0;31mNameError\u001b[0m                                 Traceback (most recent call last)",
      "Cell \u001b[0;32mIn[19], line 8\u001b[0m\n\u001b[1;32m      4\u001b[0m \u001b[38;5;66;03m#X_train = StandardScaler().fit_transform(X_train)\u001b[39;00m\n\u001b[1;32m      5\u001b[0m \n\u001b[1;32m      6\u001b[0m \u001b[38;5;66;03m# Fit centroids to dataset\u001b[39;00m\n\u001b[1;32m      7\u001b[0m kmeans \u001b[38;5;241m=\u001b[39m KMeans(n_clusters\u001b[38;5;241m=\u001b[39mcenters)\n\u001b[0;32m----> 8\u001b[0m \u001b[43mkmeans\u001b[49m\u001b[38;5;241;43m.\u001b[39;49m\u001b[43mfit\u001b[49m\u001b[43m(\u001b[49m\u001b[43mX_train\u001b[49m\u001b[43m)\u001b[49m\n\u001b[1;32m     10\u001b[0m \u001b[38;5;66;03m# View results\u001b[39;00m\n\u001b[1;32m     11\u001b[0m class_centers, classification \u001b[38;5;241m=\u001b[39m kmeans\u001b[38;5;241m.\u001b[39mevaluate(X_train)\n",
      "Cell \u001b[0;32mIn[18], line 26\u001b[0m, in \u001b[0;36mKMeans.fit\u001b[0;34m(self, X_train)\u001b[0m\n\u001b[1;32m     21\u001b[0m \u001b[38;5;28;01mdef\u001b[39;00m \u001b[38;5;21mfit\u001b[39m(\u001b[38;5;28mself\u001b[39m, X_train):\n\u001b[1;32m     22\u001b[0m     \u001b[38;5;66;03m# Initialize the centroids, using the \"k-means++\" method, where a random datapoint is selected as the first,\u001b[39;00m\n\u001b[1;32m     23\u001b[0m     \u001b[38;5;66;03m# then the rest are initialized w/ probabilities proportional to their distances to the first\u001b[39;00m\n\u001b[1;32m     24\u001b[0m     \u001b[38;5;66;03m# Pick a random point from train data for first centroid\u001b[39;00m\n\u001b[1;32m     25\u001b[0m     \u001b[38;5;28mself\u001b[39m\u001b[38;5;241m.\u001b[39mcentroids \u001b[38;5;241m=\u001b[39m [random\u001b[38;5;241m.\u001b[39mchoice(X_train)]\n\u001b[0;32m---> 26\u001b[0m     \u001b[38;5;28mprint\u001b[39m(\u001b[43mcentroids\u001b[49m)\n\u001b[1;32m     28\u001b[0m     \u001b[38;5;28;01mfor\u001b[39;00m _ \u001b[38;5;129;01min\u001b[39;00m \u001b[38;5;28mrange\u001b[39m(\u001b[38;5;28mself\u001b[39m\u001b[38;5;241m.\u001b[39mn_clusters\u001b[38;5;241m-\u001b[39m\u001b[38;5;241m1\u001b[39m):\n\u001b[1;32m     29\u001b[0m         \u001b[38;5;66;03m# Calculate distances from points to the centroids\u001b[39;00m\n\u001b[1;32m     30\u001b[0m         dists \u001b[38;5;241m=\u001b[39m np\u001b[38;5;241m.\u001b[39msum([euclidean(centroid, X_train) \u001b[38;5;28;01mfor\u001b[39;00m centroid \u001b[38;5;129;01min\u001b[39;00m \u001b[38;5;28mself\u001b[39m\u001b[38;5;241m.\u001b[39mcentroids], axis\u001b[38;5;241m=\u001b[39m\u001b[38;5;241m0\u001b[39m)\n",
      "\u001b[0;31mNameError\u001b[0m: name 'centroids' is not defined"
     ]
    }
   ],
   "source": [
    "# Create a dataset of 2D distributions\n",
    "centers = 5\n",
    "X_train, true_labels = make_blobs(n_samples=100, centers=centers, random_state=42)\n",
    "#X_train = StandardScaler().fit_transform(X_train)\n",
    "\n",
    "# Fit centroids to dataset\n",
    "kmeans = KMeans(n_clusters=centers)\n",
    "kmeans.fit(X_train)\n",
    "\n",
    "# View results\n",
    "class_centers, classification = kmeans.evaluate(X_train)\n",
    "sns.scatterplot(x=[X[0] for X in X_train],\n",
    "                y=[X[1] for X in X_train],\n",
    "                hue=true_labels,\n",
    "                style=classification,\n",
    "                palette=\"deep\",\n",
    "                legend=None\n",
    "                )\n",
    "plt.plot([x for x, _ in kmeans.centroids],\n",
    "         [y for _, y in kmeans.centroids],\n",
    "         'k+',\n",
    "         markersize=10,\n",
    "         )\n",
    "plt.show()"
   ]
  },
  {
   "cell_type": "code",
   "execution_count": null,
   "metadata": {},
   "outputs": [],
   "source": []
  }
 ],
 "metadata": {
  "kernelspec": {
   "display_name": "Python 3.9.12 ('base')",
   "language": "python",
   "name": "python3"
  },
  "language_info": {
   "codemirror_mode": {
    "name": "ipython",
    "version": 3
   },
   "file_extension": ".py",
   "mimetype": "text/x-python",
   "name": "python",
   "nbconvert_exporter": "python",
   "pygments_lexer": "ipython3",
   "version": "3.9.12"
  },
  "orig_nbformat": 4,
  "vscode": {
   "interpreter": {
    "hash": "95c4320c26d310ee3e4319af0e70948d53108c4cca4b6b40eb22eb4fe78e6fd5"
   }
  }
 },
 "nbformat": 4,
 "nbformat_minor": 2
}
